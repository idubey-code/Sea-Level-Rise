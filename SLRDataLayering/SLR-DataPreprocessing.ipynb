{
 "cells": [
  {
   "cell_type": "markdown",
   "id": "45e699a4",
   "metadata": {},
   "source": [
    "# Data cleaning and pre-processing"
   ]
  },
  {
   "cell_type": "code",
   "execution_count": null,
   "id": "8bc861e4",
   "metadata": {},
   "outputs": [],
   "source": [
    "!pip install numpy\n",
    "!pip install pandas\n",
    "!pip install pyproj"
   ]
  },
  {
   "cell_type": "code",
   "execution_count": null,
   "id": "f5eee780",
   "metadata": {},
   "outputs": [],
   "source": [
    "import pandas as pd\n",
    "import numpy as np\n",
    "from pyproj import Proj, transform\n",
    "import warnings\n",
    "\n",
    "warnings.filterwarnings(\"ignore\")\n",
    "pd.set_option(\"max_columns\", 30)\n",
    "\n",
    "\n",
    "# State list to check against dataset\n",
    "states = [\"Alabama\",\"Alaska\",\"Arizona\",\"Arkansas\",\"California\",\"Colorado\",\"Connecticut\",\"Delaware\",\"Florida\",\n",
    "          \"Georgia\",\"Hawaii\",\"Idaho\",\"Illinois\",\"Indiana\",\"Iowa\",\"Kansas\",\"Kentucky\",\"Louisiana\",\"Maine\",\n",
    "          \"Maryland\",\"Massachusetts\",\"Michigan\",\"Minnesota\",\"Mississippi\",\"Missouri\",\"Montana\",\"Nebraska\",\n",
    "          \"Nevada\",\"New Hampshire\",\"New Jersey\",\"New Mexico\",\"New York\",\"North Carolina\",\"North Dakota\",\"Ohio\",\n",
    "          \"Oklahoma\",\"Oregon\",\"Pennsylvania\",\"Rhode Island\",\"South Carolina\",\"South Dakota\",\"Tennessee\",\"Texas\",\n",
    "          \"Utah\",\"Vermont\",\"Virginia\",\"Washington\",\"West Virginia\",\"Wisconsin\",\"Wyoming\"]\n",
    "\n",
    "#Fetching US Zipcode data\n",
    "us_zipcode = pd.read_csv(\"Datasets/uszips.csv\")\n",
    "\n",
    "us_zipcode = us_zipcode[us_zipcode.state_name.isin(states)]\n",
    "columns_to_keep = ['zip', 'lat', 'lng', 'city', 'state_id', 'state_name', 'county_name']\n",
    "us_zipcode = us_zipcode[columns_to_keep].reset_index(drop=True)\n",
    "us_zipcode.set_index('zip',inplace=True)\n",
    "\n",
    "# Fetching First street data\n",
    "aws_zip = pd.read_csv(\"Datasets/Zip_level_risk.csv\")\n",
    "\n",
    "aws_zip.rename(columns={'zipcode': 'zip'}, inplace = True)\n",
    "main_dataframe = pd.merge(us_zipcode, aws_zip ,on = 'zip',how='inner')\n",
    "main_dataframe = main_dataframe[['county_name','zip', 'lat', 'lng', 'city', 'state_name', 'avg_risk_score_all']]\n",
    "\n",
    "# Defining projections and calculating Mercator coordinates\n",
    "inProj = Proj(init='epsg:3857')\n",
    "outProj = Proj(init='epsg:4326')\n",
    "\n",
    "lons, lats = [], []\n",
    "\n",
    "for lon, lat in list(zip(main_dataframe[\"lng\"], main_dataframe[\"lat\"])):\n",
    "    x, y = transform(outProj,inProj,lon,lat)\n",
    "    lons.append(x)\n",
    "    lats.append(y)\n",
    "\n",
    "main_dataframe[\"MercatorX\"] = lons\n",
    "main_dataframe[\"MercatorY\"] = lats\n",
    "\n",
    "# Fetching NOAA dataset and categorising into levels (optional to use)\n",
    "noaa = pd.read_csv(\"Datasets/NOAA.csv\")\n",
    "\n",
    "scenarios = list(noaa.Scenario.unique())\n",
    "scenarios_high = [i for i in scenarios if 'HIGH' in i]\n",
    "scenarios_med = [i for i in scenarios if 'MED' in i]\n",
    "scenarios_low = [i for i in scenarios if 'LOW' in i]\n",
    "\n",
    "noaa_high = noaa[noaa.Scenario.isin(scenarios_high)]\n",
    "noaa_med = noaa[noaa.Scenario.isin(scenarios_med)]\n",
    "noaa_low = noaa[noaa.Scenario.isin(scenarios_low)]\n",
    "\n",
    "noaa_high.reset_index(drop=True,inplace=True)\n",
    "noaa_med.reset_index(drop=True,inplace=True)\n",
    "noaa_low.reset_index(drop=True,inplace=True)\n",
    "\n",
    "# Saving datasets\n",
    "\n",
    "# main_dataframe.to_csv(\"Datasets/SLR_Zipcode.csv\")\n",
    "# noaa_high.to_csv(\"Datasets/NOAA_High.csv\")\n",
    "# noaa_med.to_csv(\"Datasets/NOAA_Med.csv\")\n",
    "# noaa_low.to_csv(\"Datasets/NOAA_Low.csv\")"
   ]
  },
  {
   "cell_type": "code",
   "execution_count": null,
   "id": "655a9ba8",
   "metadata": {},
   "outputs": [],
   "source": []
  }
 ],
 "metadata": {
  "kernelspec": {
   "display_name": "Python 3",
   "language": "python",
   "name": "python3"
  },
  "language_info": {
   "codemirror_mode": {
    "name": "ipython",
    "version": 3
   },
   "file_extension": ".py",
   "mimetype": "text/x-python",
   "name": "python",
   "nbconvert_exporter": "python",
   "pygments_lexer": "ipython3",
   "version": "3.8.8"
  }
 },
 "nbformat": 4,
 "nbformat_minor": 5
}
